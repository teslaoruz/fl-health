{
 "cells": [
  {
   "cell_type": "code",
   "execution_count": 1,
   "id": "f8b31f17",
   "metadata": {
    "editable": true,
    "slideshow": {
     "slide_type": ""
    },
    "tags": []
   },
   "outputs": [
    {
     "name": "stdout",
     "output_type": "stream",
     "text": [
      "The history saving thread hit an unexpected error (OperationalError('attempt to write a readonly database')).History will not be written to the database.\n"
     ]
    },
    {
     "name": "stderr",
     "output_type": "stream",
     "text": [
      "2025-06-12 17:55:10.982839: I tensorflow/core/platform/cpu_feature_guard.cc:210] This TensorFlow binary is optimized to use available CPU instructions in performance-critical operations.\n",
      "To enable the following instructions: AVX2 FMA, in other operations, rebuild TensorFlow with the appropriate compiler flags.\n"
     ]
    }
   ],
   "source": [
    "# Step 8: Baseline Centralized MLP Model Training\n",
    "\n",
    "import pandas as pd\n",
    "import numpy as np\n",
    "from sklearn.model_selection import train_test_split\n",
    "from sklearn.preprocessing import StandardScaler\n",
    "from sklearn.metrics import accuracy_score, precision_score, recall_score, f1_score, confusion_matrix\n",
    "from sklearn.utils import class_weight\n",
    "import tensorflow as tf\n",
    "from tensorflow.keras.models import Sequential\n",
    "from tensorflow.keras.layers import Dense, Dropout\n",
    "from tensorflow.keras.optimizers import Adam"
   ]
  },
  {
   "cell_type": "code",
   "execution_count": 4,
   "id": "f5302ee0-daf2-44dd-933a-c6cf6918efcb",
   "metadata": {},
   "outputs": [],
   "source": [
    "### after cleanup\n",
    "# Load the cleaned centralized dataset\n",
    "df = pd.read_csv('../datasets/diabetes/cleaned_data.csv')"
   ]
  },
  {
   "cell_type": "code",
   "execution_count": 5,
   "id": "257f8af9-a5df-4ae8-ad2d-bcbf3653bf47",
   "metadata": {},
   "outputs": [],
   "source": [
    "# Correct binary label: 0 = NO, 1 = <30 or >30\n",
    "df['readmitted_binary'] = df['readmitted'].apply(lambda x: 0 if x == 0 else 1)\n",
    "\n",
    "# Drop target and leaky column(s)\n",
    "df = df.drop(columns=['readmitted', 'discharge_disposition_id'])\n",
    "\n",
    "# Prepare features and target\n",
    "X = df.drop(columns=['readmitted_binary'])\n",
    "y = df['readmitted_binary']\n",
    "\n",
    "# Train-test split\n",
    "X_train, X_test, y_train, y_test = train_test_split(X, y, test_size=0.2, random_state=42, stratify=y)\n",
    "\n",
    "# Scale numerical features\n",
    "scaler = StandardScaler()\n",
    "X_train_scaled = scaler.fit_transform(X_train)\n",
    "X_test_scaled = scaler.transform(X_test)"
   ]
  },
  {
   "cell_type": "code",
   "execution_count": 6,
   "id": "4c3889fd-a106-4755-aebc-b4fdfb7389ab",
   "metadata": {},
   "outputs": [
    {
     "name": "stderr",
     "output_type": "stream",
     "text": [
      "/home/tesla/anaconda3/envs/tff-env/lib/python3.10/site-packages/keras/src/layers/core/dense.py:93: UserWarning: Do not pass an `input_shape`/`input_dim` argument to a layer. When using Sequential models, prefer using an `Input(shape)` object as the first layer in the model instead.\n",
      "  super().__init__(activity_regularizer=activity_regularizer, **kwargs)\n",
      "E0000 00:00:1749563578.251349   24585 cuda_executor.cc:1228] INTERNAL: CUDA Runtime error: Failed call to cudaGetRuntimeVersion: Error loading CUDA libraries. GPU will not be used.: Error loading CUDA libraries. GPU will not be used.\n",
      "W0000 00:00:1749563578.252727   24585 gpu_device.cc:2341] Cannot dlopen some GPU libraries. Please make sure the missing libraries mentioned above are installed properly if you would like to use GPU. Follow the guide at https://www.tensorflow.org/install/gpu for how to download and setup the required libraries for your platform.\n",
      "Skipping registering GPU devices...\n"
     ]
    }
   ],
   "source": [
    "# Build MLP model\n",
    "model = Sequential([\n",
    "    Dense(64, activation='relu', input_shape=(X_train_scaled.shape[1],)),\n",
    "    Dropout(0.2),\n",
    "    Dense(32, activation='relu'),\n",
    "    Dense(1, activation='sigmoid')\n",
    "])\n",
    "\n",
    "model.compile(optimizer=Adam(learning_rate=0.001),\n",
    "              loss='binary_crossentropy',\n",
    "              metrics=['accuracy'])"
   ]
  },
  {
   "cell_type": "code",
   "execution_count": 7,
   "id": "6e4ba8c6-b95c-4feb-9971-7c1e0eadd207",
   "metadata": {},
   "outputs": [
    {
     "name": "stdout",
     "output_type": "stream",
     "text": [
      "Epoch 1/20\n",
      "2239/2239 - 7s - 3ms/step - accuracy: 0.8859 - loss: 0.3509 - val_accuracy: 0.8876 - val_loss: 0.3442\n",
      "Epoch 2/20\n",
      "2239/2239 - 6s - 3ms/step - accuracy: 0.8877 - loss: 0.3407 - val_accuracy: 0.8881 - val_loss: 0.3432\n",
      "Epoch 3/20\n",
      "2239/2239 - 6s - 3ms/step - accuracy: 0.8878 - loss: 0.3390 - val_accuracy: 0.8872 - val_loss: 0.3424\n",
      "Epoch 4/20\n",
      "2239/2239 - 5s - 2ms/step - accuracy: 0.8878 - loss: 0.3377 - val_accuracy: 0.8879 - val_loss: 0.3436\n",
      "Epoch 5/20\n",
      "2239/2239 - 5s - 2ms/step - accuracy: 0.8878 - loss: 0.3372 - val_accuracy: 0.8878 - val_loss: 0.3415\n",
      "Epoch 6/20\n",
      "2239/2239 - 5s - 2ms/step - accuracy: 0.8879 - loss: 0.3364 - val_accuracy: 0.8876 - val_loss: 0.3430\n",
      "Epoch 7/20\n",
      "2239/2239 - 6s - 3ms/step - accuracy: 0.8879 - loss: 0.3361 - val_accuracy: 0.8879 - val_loss: 0.3446\n",
      "Epoch 8/20\n",
      "2239/2239 - 6s - 2ms/step - accuracy: 0.8881 - loss: 0.3356 - val_accuracy: 0.8874 - val_loss: 0.3444\n",
      "Epoch 9/20\n",
      "2239/2239 - 6s - 3ms/step - accuracy: 0.8883 - loss: 0.3353 - val_accuracy: 0.8879 - val_loss: 0.3424\n",
      "Epoch 10/20\n",
      "2239/2239 - 5s - 2ms/step - accuracy: 0.8879 - loss: 0.3347 - val_accuracy: 0.8877 - val_loss: 0.3429\n",
      "Epoch 11/20\n",
      "2239/2239 - 5s - 2ms/step - accuracy: 0.8881 - loss: 0.3342 - val_accuracy: 0.8874 - val_loss: 0.3432\n",
      "Epoch 12/20\n",
      "2239/2239 - 5s - 2ms/step - accuracy: 0.8882 - loss: 0.3340 - val_accuracy: 0.8877 - val_loss: 0.3441\n",
      "Epoch 13/20\n",
      "2239/2239 - 5s - 2ms/step - accuracy: 0.8881 - loss: 0.3336 - val_accuracy: 0.8881 - val_loss: 0.3436\n",
      "Epoch 14/20\n",
      "2239/2239 - 6s - 2ms/step - accuracy: 0.8884 - loss: 0.3332 - val_accuracy: 0.8874 - val_loss: 0.3438\n",
      "Epoch 15/20\n",
      "2239/2239 - 5s - 2ms/step - accuracy: 0.8882 - loss: 0.3328 - val_accuracy: 0.8882 - val_loss: 0.3446\n",
      "Epoch 16/20\n",
      "2239/2239 - 5s - 2ms/step - accuracy: 0.8883 - loss: 0.3324 - val_accuracy: 0.8878 - val_loss: 0.3454\n",
      "Epoch 17/20\n",
      "2239/2239 - 5s - 2ms/step - accuracy: 0.8885 - loss: 0.3321 - val_accuracy: 0.8877 - val_loss: 0.3457\n",
      "Epoch 18/20\n",
      "2239/2239 - 6s - 3ms/step - accuracy: 0.8883 - loss: 0.3318 - val_accuracy: 0.8877 - val_loss: 0.3441\n",
      "Epoch 19/20\n",
      "2239/2239 - 5s - 2ms/step - accuracy: 0.8882 - loss: 0.3317 - val_accuracy: 0.8878 - val_loss: 0.3451\n",
      "Epoch 20/20\n",
      "2239/2239 - 5s - 2ms/step - accuracy: 0.8885 - loss: 0.3307 - val_accuracy: 0.8876 - val_loss: 0.3445\n"
     ]
    }
   ],
   "source": [
    "# Train\n",
    "history = model.fit(X_train_scaled, y_train,\n",
    "                    epochs=20,\n",
    "                    batch_size=32,\n",
    "                    validation_split=0.1,\n",
    "                    verbose=2,)"
   ]
  },
  {
   "cell_type": "code",
   "execution_count": 8,
   "id": "b42bdc7a-f255-4b76-a48b-f8dcfd96af44",
   "metadata": {},
   "outputs": [
    {
     "name": "stdout",
     "output_type": "stream",
     "text": [
      "\u001b[1m622/622\u001b[0m \u001b[32m━━━━━━━━━━━━━━━━━━━━\u001b[0m\u001b[37m\u001b[0m \u001b[1m1s\u001b[0m 1ms/step  \n"
     ]
    }
   ],
   "source": [
    "# Evaluate\n",
    "y_pred_probs = model.predict(X_test_scaled).flatten()\n",
    "y_pred = (y_pred_probs > 0.7).astype(int) "
   ]
  },
  {
   "cell_type": "code",
   "execution_count": 14,
   "id": "ad7591da-3f78-48aa-a2b2-f7bad573078e",
   "metadata": {},
   "outputs": [
    {
     "name": "stdout",
     "output_type": "stream",
     "text": [
      "\n",
      "Test Accuracy: 0.8817\n",
      "Test Precision: 0.8925\n",
      "Test Recall: 0.9854\n",
      "Test F1 Score: 0.9366\n",
      "Confusion Matrix:\n",
      "[[  137  2097]\n",
      " [  258 17407]]\n"
     ]
    }
   ],
   "source": [
    "# Metrics\n",
    "accuracy = accuracy_score(y_test, y_pred)\n",
    "precision = precision_score(y_test, y_pred)\n",
    "recall = recall_score(y_test, y_pred)\n",
    "f1 = f1_score(y_test, y_pred)\n",
    "conf_matrix = confusion_matrix(y_test, y_pred)\n",
    "\n",
    "print(f\"\\nTest Accuracy: {accuracy:.4f}\")\n",
    "print(f\"Test Precision: {precision:.4f}\")\n",
    "print(f\"Test Recall: {recall:.4f}\")\n",
    "print(f\"Test F1 Score: {f1:.4f}\")\n",
    "print(\"Confusion Matrix:\")\n",
    "print(conf_matrix)"
   ]
  },
  {
   "cell_type": "code",
   "execution_count": null,
   "id": "50bfb78e-7f17-473b-9244-3df9d873dad1",
   "metadata": {},
   "outputs": [],
   "source": []
  }
 ],
 "metadata": {
  "kernelspec": {
   "display_name": "Python 3 (ipykernel)",
   "language": "python",
   "name": "python3"
  },
  "language_info": {
   "codemirror_mode": {
    "name": "ipython",
    "version": 3
   },
   "file_extension": ".py",
   "mimetype": "text/x-python",
   "name": "python",
   "nbconvert_exporter": "python",
   "pygments_lexer": "ipython3",
   "version": "3.9.23"
  }
 },
 "nbformat": 4,
 "nbformat_minor": 5
}
