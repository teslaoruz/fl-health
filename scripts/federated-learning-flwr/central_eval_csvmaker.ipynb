{
 "cells": [
  {
   "cell_type": "code",
   "execution_count": 1,
   "id": "7b8d294d-948a-4d7c-ae47-7d2f00d7df1b",
   "metadata": {},
   "outputs": [],
   "source": [
    "import pandas as pd\n",
    "from sklearn.model_selection import train_test_split"
   ]
  },
  {
   "cell_type": "code",
   "execution_count": 2,
   "id": "9aa8b4eb-04fb-43a6-ba10-268ea39f34ad",
   "metadata": {},
   "outputs": [],
   "source": [
    "df = pd.read_csv(\"../../datasets/diabetes/cleaned_data.csv\")"
   ]
  },
  {
   "cell_type": "code",
   "execution_count": 3,
   "id": "bf1df25c-fb1a-4154-9e19-eed8e8b0f6a0",
   "metadata": {},
   "outputs": [],
   "source": [
    "# Create stratified split (preserving label balance)\n",
    "df_train, df_eval = train_test_split(\n",
    "    df, test_size=0.2, stratify=df[\"readmitted\"], random_state=42\n",
    ")"
   ]
  },
  {
   "cell_type": "code",
   "execution_count": 4,
   "id": "baaefcd1-737a-4ac2-ae6c-864060ea686c",
   "metadata": {},
   "outputs": [],
   "source": [
    "# Save central eval set\n",
    "df_eval.to_csv(\"../../datasets/diabetes/central_eval.csv\", index=False)"
   ]
  },
  {
   "cell_type": "code",
   "execution_count": 5,
   "id": "4b38b304-e979-496b-81aa-b8d409eb3969",
   "metadata": {},
   "outputs": [],
   "source": [
    "# Save remaining to be repartitioned into silos\n",
    "df_train.to_csv(\"../../datasets/diabetes/train_only.csv\", index=False)"
   ]
  },
  {
   "cell_type": "code",
   "execution_count": null,
   "id": "ad1bfea8-7cb0-43d3-9329-bda63d40ae57",
   "metadata": {},
   "outputs": [],
   "source": []
  }
 ],
 "metadata": {
  "kernelspec": {
   "display_name": "Python 3 (ipykernel)",
   "language": "python",
   "name": "python3"
  },
  "language_info": {
   "codemirror_mode": {
    "name": "ipython",
    "version": 3
   },
   "file_extension": ".py",
   "mimetype": "text/x-python",
   "name": "python",
   "nbconvert_exporter": "python",
   "pygments_lexer": "ipython3",
   "version": "3.9.23"
  }
 },
 "nbformat": 4,
 "nbformat_minor": 5
}
