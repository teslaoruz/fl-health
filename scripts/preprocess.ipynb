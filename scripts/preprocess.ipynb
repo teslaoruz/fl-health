{
 "cells": [
  {
   "cell_type": "code",
   "execution_count": 3,
   "id": "9aa75b67",
   "metadata": {},
   "outputs": [
    {
     "name": "stdout",
     "output_type": "stream",
     "text": [
      "(101766, 50)\n",
      "   encounter_id  patient_nbr             race  gender      age weight  \\\n",
      "0       2278392      8222157        Caucasian  Female   [0-10)      ?   \n",
      "1        149190     55629189        Caucasian  Female  [10-20)      ?   \n",
      "2         64410     86047875  AfricanAmerican  Female  [20-30)      ?   \n",
      "3        500364     82442376        Caucasian    Male  [30-40)      ?   \n",
      "4         16680     42519267        Caucasian    Male  [40-50)      ?   \n",
      "\n",
      "   admission_type_id  discharge_disposition_id  admission_source_id  \\\n",
      "0                  6                        25                    1   \n",
      "1                  1                         1                    7   \n",
      "2                  1                         1                    7   \n",
      "3                  1                         1                    7   \n",
      "4                  1                         1                    7   \n",
      "\n",
      "   time_in_hospital  ... citoglipton insulin  glyburide-metformin  \\\n",
      "0                 1  ...          No      No                   No   \n",
      "1                 3  ...          No      Up                   No   \n",
      "2                 2  ...          No      No                   No   \n",
      "3                 2  ...          No      Up                   No   \n",
      "4                 1  ...          No  Steady                   No   \n",
      "\n",
      "   glipizide-metformin  glimepiride-pioglitazone  metformin-rosiglitazone  \\\n",
      "0                   No                        No                       No   \n",
      "1                   No                        No                       No   \n",
      "2                   No                        No                       No   \n",
      "3                   No                        No                       No   \n",
      "4                   No                        No                       No   \n",
      "\n",
      "   metformin-pioglitazone  change diabetesMed readmitted  \n",
      "0                      No      No          No         NO  \n",
      "1                      No      Ch         Yes        >30  \n",
      "2                      No      No         Yes         NO  \n",
      "3                      No      Ch         Yes         NO  \n",
      "4                      No      Ch         Yes         NO  \n",
      "\n",
      "[5 rows x 50 columns]\n"
     ]
    }
   ],
   "source": [
    "import pandas as pd\n",
    "\n",
    "df = pd.read_csv('../datasets/diabetes/diabetic_data.csv')\n",
    "# print(df.shape)\n",
    "# print(df.head())\n"
   ]
  },
  {
   "cell_type": "code",
   "execution_count": 4,
   "id": "12f20d7b",
   "metadata": {},
   "outputs": [],
   "source": [
    "# Replace '?' with NaN\n",
    "df.replace('?', pd.NA, inplace=True)\n",
    "\n",
    "# Drop columns with too much missing or no variance\n",
    "df.drop(columns=['weight', 'payer_code', 'medical_specialty', 'encounter_id', 'patient_nbr'], inplace=True)\n",
    "\n",
    "# Drop rows with missing gender/race\n",
    "df.dropna(subset=['race', 'gender'], inplace=True)\n"
   ]
  },
  {
   "cell_type": "code",
   "execution_count": 10,
   "id": "26366cde",
   "metadata": {},
   "outputs": [
    {
     "name": "stdout",
     "output_type": "stream",
     "text": [
      "(99493, 45)\n",
      "   race  gender  age  admission_type_id  discharge_disposition_id  \\\n",
      "0     2       0    0                  6                        25   \n",
      "1     2       0    1                  1                         1   \n",
      "2     0       0    2                  1                         1   \n",
      "3     2       1    3                  1                         1   \n",
      "4     2       1    4                  1                         1   \n",
      "\n",
      "   admission_source_id  time_in_hospital  num_lab_procedures  num_procedures  \\\n",
      "0                    1                 1                  41               0   \n",
      "1                    7                 3                  59               0   \n",
      "2                    7                 2                  11               5   \n",
      "3                    7                 2                  44               1   \n",
      "4                    7                 1                  51               0   \n",
      "\n",
      "   num_medications  ...  citoglipton  insulin  glyburide-metformin  \\\n",
      "0                1  ...            0        1                    1   \n",
      "1               18  ...            0        3                    1   \n",
      "2               13  ...            0        1                    1   \n",
      "3               16  ...            0        3                    1   \n",
      "4                8  ...            0        2                    1   \n",
      "\n",
      "   glipizide-metformin  glimepiride-pioglitazone  metformin-rosiglitazone  \\\n",
      "0                    0                         0                        0   \n",
      "1                    0                         0                        0   \n",
      "2                    0                         0                        0   \n",
      "3                    0                         0                        0   \n",
      "4                    0                         0                        0   \n",
      "\n",
      "   metformin-pioglitazone  change  diabetesMed  readmitted  \n",
      "0                       0       1            0           2  \n",
      "1                       0       0            1           1  \n",
      "2                       0       1            1           2  \n",
      "3                       0       0            1           2  \n",
      "4                       0       0            1           2  \n",
      "\n",
      "[5 rows x 45 columns]\n"
     ]
    }
   ],
   "source": [
    "print(df.shape)\n",
    "print(df.head())"
   ]
  },
  {
   "cell_type": "code",
   "execution_count": 11,
   "id": "e5520f6c",
   "metadata": {},
   "outputs": [],
   "source": [
    "from sklearn.preprocessing import LabelEncoder\n",
    "\n",
    "cat_cols = df.select_dtypes(include='object').columns\n",
    "for col in cat_cols:\n",
    "    df[col] = LabelEncoder().fit_transform(df[col].astype(str))"
   ]
  },
  {
   "cell_type": "code",
   "execution_count": 13,
   "id": "efb144eb",
   "metadata": {},
   "outputs": [
    {
     "data": {
      "text/plain": [
       "readmitted\n",
       "2    0.535887\n",
       "1    0.351854\n",
       "0    0.112259\n",
       "Name: proportion, dtype: float64"
      ]
     },
     "execution_count": 13,
     "metadata": {},
     "output_type": "execute_result"
    }
   ],
   "source": [
    "df['readmitted'].value_counts(normalize=True)\n"
   ]
  },
  {
   "cell_type": "code",
   "execution_count": 15,
   "id": "ff373a46",
   "metadata": {},
   "outputs": [],
   "source": [
    "df.to_csv('../datasets/diabetes/cleaned_data.csv', index=False)\n"
   ]
  },
  {
   "cell_type": "code",
   "execution_count": 3,
   "id": "1a537267",
   "metadata": {},
   "outputs": [
    {
     "name": "stdout",
     "output_type": "stream",
     "text": [
      "hospital_1.csv created with 4918 rows.\n",
      "hospital_2.csv created with 6000 rows.\n",
      "hospital_3.csv created with 6000 rows.\n",
      "hospital_4.csv created with 6000 rows.\n",
      "hospital_5.csv created with 6000 rows.\n",
      "\n",
      "Silo composition completed. Uniform sample size: 6000 rows each.\n"
     ]
    }
   ],
   "source": [
    "import pandas as pd\n",
    "import os\n",
    "\n",
    "# Load cleaned dataset\n",
    "# df = pd.read_csv('../datasets/diabetes/cleaned_data.csv')\n",
    "df = pd.read_csv('../datasets/diabetes/train_only.csv')\n",
    "output_dir = '../datasets/diabetes/silos'\n",
    "os.makedirs(output_dir, exist_ok=True)\n",
    "\n",
    "# Final uniform sample size\n",
    "SILO_SIZE = 6000\n",
    "\n",
    "# Define silo filtering criteria\n",
    "criteria = {\n",
    "    \"hospital_1.csv\": df[df['age'] <= 3],                      # Younger patients (≤ 40)\n",
    "    \"hospital_2.csv\": df[df['gender'] == 1],                   # Male patients\n",
    "    \"hospital_3.csv\": df[df['diabetesMed'] == 1],              # Patients on medication\n",
    "    \"hospital_4.csv\": df[df['max_glu_serum'] > 0],             # Had glucose test\n",
    "    \"hospital_5.csv\": df[df['readmitted'] != 0],               # Any readmission\n",
    "}\n",
    "\n",
    "# Create and save each silo\n",
    "for filename, group_df in criteria.items():\n",
    "    actual_size = min(len(group_df), SILO_SIZE)\n",
    "    sampled_df = group_df.sample(n=actual_size, random_state=42)\n",
    "    sampled_df.to_csv(os.path.join(output_dir, filename), index=False)\n",
    "    print(f\"{filename} created with {actual_size} rows.\")\n",
    "\n",
    "# Summary printout\n",
    "print(\"\\nSilo composition completed. Uniform sample size: 6000 rows each.\")\n"
   ]
  },
  {
   "cell_type": "code",
   "execution_count": 8,
   "id": "9aef1df7-0ad2-4f08-a05c-6691a57d54c7",
   "metadata": {},
   "outputs": [
    {
     "name": "stdout",
     "output_type": "stream",
     "text": [
      "Central evaluation set saved: 19899 samples\n",
      "Hospital 1 silo saved: 15896 samples\n",
      "Hospital 2 silo saved: 16026 samples\n",
      "Hospital 3 silo saved: 15718 samples\n",
      "Hospital 4 silo saved: 15917 samples\n",
      "Hospital 5 silo saved: 16037 samples\n"
     ]
    }
   ],
   "source": [
    "import pandas as pd\n",
    "import numpy as np\n",
    "import os\n",
    "from sklearn.model_selection import train_test_split\n",
    "\n",
    "# Load original dataset\n",
    "df = pd.read_csv(\"../datasets/diabetes/cleaned_data.csv\")\n",
    "\n",
    "# Simulate hospital_id (5 silos)\n",
    "np.random.seed(42)\n",
    "df[\"hospital_id\"] = np.random.choice([1, 2, 3, 4, 5], size=len(df))\n",
    "\n",
    "# Create output directory if not exists\n",
    "silo_dir = \"../datasets/diabetes/processed_silos\"\n",
    "os.makedirs(silo_dir, exist_ok=True)\n",
    "\n",
    "# Split off 20% for central evaluation\n",
    "df_train, df_central_eval = train_test_split(df, test_size=0.2, random_state=42, stratify=df[\"readmitted\"])\n",
    "\n",
    "# Save central evaluation dataset\n",
    "central_eval_path = \"../datasets/diabetes/central_eval.csv\"\n",
    "df_central_eval.to_csv(central_eval_path, index=False)\n",
    "print(f\"Central evaluation set saved: {len(df_central_eval)} samples\")\n",
    "\n",
    "# Save each silo (using only training part, excluding central_eval set)\n",
    "for hospital_id in range(1, 6):\n",
    "    silo_df = df_train[df_train[\"hospital_id\"] == hospital_id].copy()\n",
    "    path = f\"{silo_dir}/hospital_{hospital_id}.csv\"\n",
    "    silo_df.to_csv(path, index=False)\n",
    "    print(f\"Hospital {hospital_id} silo saved: {len(silo_df)} samples\")\n"
   ]
  },
  {
   "cell_type": "code",
   "execution_count": null,
   "id": "71e38261-2e91-47ca-8b4d-f242e302ce07",
   "metadata": {},
   "outputs": [],
   "source": []
  }
 ],
 "metadata": {
  "kernelspec": {
   "display_name": "Python 3 (ipykernel)",
   "language": "python",
   "name": "python3"
  },
  "language_info": {
   "codemirror_mode": {
    "name": "ipython",
    "version": 3
   },
   "file_extension": ".py",
   "mimetype": "text/x-python",
   "name": "python",
   "nbconvert_exporter": "python",
   "pygments_lexer": "ipython3",
   "version": "3.9.23"
  }
 },
 "nbformat": 4,
 "nbformat_minor": 5
}
